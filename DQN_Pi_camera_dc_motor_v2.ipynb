{
 "cells": [
  {
   "cell_type": "code",
   "execution_count": 1,
   "metadata": {},
   "outputs": [],
   "source": [
    "import torch\n",
    "import torch.nn as nn\n",
    "import torch.optim as optim\n",
    "from torch.distributions import Categorical\n",
    "import random\n",
    "import numpy as np\n",
    "import torch as T\n",
    "import pickle\n",
    "import matplotlib.pyplot as plt"
   ]
  },
  {
   "cell_type": "code",
   "execution_count": 2,
   "metadata": {},
   "outputs": [],
   "source": [
    "class Qnet(nn.Module):\n",
    "    def __init__(self,in_dims,n_actions,alpha):\n",
    "        super(Qnet,self).__init__()\n",
    "        self.in_dims = in_dims\n",
    "        self.n_actions = n_actions\n",
    "        self.c1 = nn.Conv2d(self.in_dims,64,3,1,1)\n",
    "        self.p1 = nn.MaxPool2d(2)\n",
    "        self.c2 = nn.Conv2d(64,16,3,1,1)\n",
    "        self.p2 = nn.MaxPool2d(2)\n",
    "        self.fc3 = nn.Linear(2304,124)\n",
    "        self.relu3 = nn.ReLU()\n",
    "        self.fc4 = nn.Linear(124,self.n_actions)\n",
    "        self.loss = nn.MSELoss() ###\n",
    "        self.optimizer = optim.RMSprop(params=self.parameters(),lr=alpha)\n",
    "        \n",
    "    def forward(self,observation):\n",
    "        state = T.FloatTensor(observation)\n",
    "        state = state.view(-1,5,50,50)\n",
    "        x = self.p1(self.c1(state))\n",
    "        x = self.p2(self.c2(x))\n",
    "        x = x.view(-1,2304)\n",
    "        x = self.relu3(self.fc3(x))\n",
    "        actions = self.fc4(x)\n",
    "        return actions"
   ]
  },
  {
   "cell_type": "code",
   "execution_count": 3,
   "metadata": {},
   "outputs": [],
   "source": [
    "net = Qnet(3,3,0.002)"
   ]
  },
  {
   "cell_type": "code",
   "execution_count": null,
   "metadata": {},
   "outputs": [],
   "source": []
  },
  {
   "cell_type": "code",
   "execution_count": 4,
   "metadata": {},
   "outputs": [],
   "source": [
    "\n",
    "class Agent(object):\n",
    "    import numpy as np\n",
    "    def __init__(self,in_dims,n_actions,alpha,epsilon,gamma,batch_size,reply_mem_size,epsilon_min=0.05,epsilon_decrease=0.9996,):\n",
    "        self.in_dims = in_dims\n",
    "        self.action_space = [i for i in range(n_actions)]\n",
    "        self.n_actions = n_actions\n",
    "        self.alpha = alpha\n",
    "        self.gamma = gamma\n",
    "        self.batch_size = batch_size\n",
    "        self.reply_mem_size = reply_mem_size\n",
    "        self.mem_cntr = 0\n",
    "\n",
    "        \n",
    "        self.epsilon = epsilon\n",
    "        self.epsilon_min = epsilon_min\n",
    "        self.epsilon_decrease = epsilon_decrease\n",
    "        \n",
    "        # define memories\n",
    "#         self.state_mem = self.np.zeros((self.reply_mem_size,379))\n",
    "        self.action_mem = [0]*self.reply_mem_size\n",
    "        self.reward_mem = [0]*self.reply_mem_size\n",
    "#         self.next_state_mem = self.np.zeros((self.reply_mem_size,379))\n",
    "        self.is_done_mem = [0]*self.reply_mem_size\n",
    "        self.state_mem_stacked = [0]*self.reply_mem_size\n",
    "        self.next_state_mem_stacked = [0]*self.reply_mem_size\n",
    "        \n",
    "        # Define batches\n",
    "        self.batch = None\n",
    "        self.state_batch = None\n",
    "        self.action_batch = None\n",
    "        self.reward_batch = None\n",
    "        self.next_state_batch = None\n",
    "        self.is_done_batch = None\n",
    "        \n",
    "        \n",
    "        # define brain\n",
    "        self.brain = Qnet(self.in_dims,self.n_actions,self.alpha)\n",
    "        \n",
    "        \n",
    "        self.zero_padding = self.np.zeros((5,50,50))\n",
    "        \n",
    "    def store_experiance(self,state,action,reward,next_state,is_done,episode_ln = None):\n",
    "        index = self.mem_cntr % self.reply_mem_size\n",
    "#         self.state_mem[index] = state\n",
    "        self.action_mem[index] = action\n",
    "        self.reward_mem[index] = reward\n",
    "#         self.next_state_mem[index] = next_state\n",
    "        self.is_done_mem[index] = 1 - is_done\n",
    "        \n",
    "        self.state_mem_stacked[index] = state\n",
    "        self.next_state_mem_stacked[index] = next_state\n",
    "        self.mem_cntr += 1\n",
    "        if episode_ln is not None:\n",
    "            reward_to_process = self.reward_mem[index-episode_ln+1 : index+1]\n",
    "            p = [l for l in reward_to_process]\n",
    "            p_zero = [l - self.np.mean(p) for l in p]\n",
    "            range_ = self.np.max(p_zero) - self.np.min(p_zero)\n",
    "            rewards = [(l - self.np.mean(p_zero))/range_ for l in p_zero]\n",
    "            self.reward_mem[index-episode_ln+1 : index+1] = rewards\n",
    "\n",
    "        \n",
    "        \n",
    "    \n",
    "    def act(self,observation):\n",
    "        net_act = self.brain.forward(observation)\n",
    "        if  self.np.random.random() > self.epsilon:\n",
    "            action = T.argmax(net_act).item()\n",
    "        else:\n",
    "            action = self.np.random.choice([0,1,2])\n",
    "        return action\n",
    "            \n",
    "            \n",
    "    def learn(self):\n",
    "        if self.mem_cntr > self.batch_size:\n",
    "            self.brain.optimizer.zero_grad()\n",
    "            \n",
    "            max_mem = self.mem_cntr if self.mem_cntr < self.reply_mem_size else self.reply_mem_size\n",
    "            \n",
    "            self.batch = self.np.random.choice(max_mem,self.batch_size)\n",
    "            \n",
    "            self.state_batch = [self.state_mem_stacked[i] for i in self.batch]\n",
    "            self.action_batch = [self.action_mem[i] for i in self.batch]\n",
    "            self.reward_batch = T.Tensor([self.reward_mem[i] for i in self.batch])\n",
    "            self.next_state_batch = [self.next_state_mem_stacked[i] for i in self.batch]\n",
    "            self.is_done_batch = T.Tensor([self.is_done_mem[i] for i in self.batch])\n",
    "            \n",
    "            print(\"q_eval\")\n",
    "#             self.q_eval = []\n",
    "#             for i in self.state_batch:\n",
    "#                 self.q_eval.append(self.brain.forward(i))\n",
    "#             self.q_eval = T.FloatTensor(self.np.array(self.q_eval))\n",
    "            self.q_eval = self.brain.forward(self.state_batch)\n",
    "            print(\"q_target\")\n",
    "            self.q_target = self.q_eval.clone()\n",
    "            print(\"q_next\")\n",
    "#             self.q_next = []\n",
    "#             for i in self.next_state_batch:\n",
    "#                 self.q_next.append(self.brain.forward(i))\n",
    "#             self.q_next = T.FloatTensor(self.np.array(self.q_next))\n",
    "            self.q_next = self.brain.forward(self.next_state_batch)\n",
    "            \n",
    "            batch_index = self.np.arange(self.batch_size)\n",
    "            \n",
    "            self.q_target[batch_index,self.action_batch] = self.reward_batch + self.gamma * T.max(self.q_next,dim=1)[0] * self.is_done_batch\n",
    "            \n",
    "#             self.epsilon = self.epsilon * self.epsilon_decrease if self.epsilon > self.epsilon_min else self.epsilon_min\n",
    "            \n",
    "            loss = self.brain.loss(self.q_target,self.q_eval)\n",
    "            loss.backward()\n",
    "            self.brain.optimizer.step()\n",
    "            \n",
    "            "
   ]
  },
  {
   "cell_type": "code",
   "execution_count": 5,
   "metadata": {},
   "outputs": [],
   "source": [
    "class Env():\n",
    "    import RPi.GPIO as GPIO\n",
    "    from time import sleep\n",
    "    import random\n",
    "    import time\n",
    "    import numpy as np\n",
    "    import cv2\n",
    "    import os \n",
    "    import pickle\n",
    "    \n",
    "    def __init__(self):\n",
    "        self.action_space = 3\n",
    "        self.state_space = 5\n",
    "        self.wait_time = 0.3\n",
    "        self.acc_time = 0.35\n",
    "        self.Motor1A = 24\n",
    "        self.Motor1B = 23\n",
    "        self.Motor1E = 25\n",
    "        self.counter = 0\n",
    "        self.os.system('sudo modprobe bcm2835-v4l2') \n",
    "        self.cap = self.cv2.VideoCapture(0)\n",
    "        self.state,self.reward_state = self.capture()\n",
    "        self.lower_others = self.pickle.load(open('lower_others.pkl','rb'))\n",
    "        self.right_others = self.pickle.load(open('right_others.pkl','rb'))\n",
    "        self.left_others = self.pickle.load(open('left_others.pkl','rb'))\n",
    "    \n",
    "    \n",
    "    \n",
    "    def reward_calc(self):\n",
    "        edges = self.cv2.Canny(self.reward_state,100,200)\n",
    "        upper_dif = self.np.sum(edges[:25] - edges[25:])\n",
    "        lower_dif =  self.np.sum(edges[25:] - edges[:25] - self.lower_others)\n",
    "        right_dif = self.np.sum(edges[:,25:] - edges[:,:25] - self.right_others)\n",
    "        left_dif = self.np.sum(edges[:,:25] - edges[:,25:] - self.left_others)\n",
    "        return self.np.sum([upper_dif,0.5*right_dif,-1*lower_dif,0.5*left_dif])\n",
    "    \n",
    "    \n",
    "    \n",
    "    def capture(self):\n",
    "        ret, frame = self.cap.read()\n",
    "        frame = frame[30:400,100:485]\n",
    "        frame = self.cv2.resize(frame,(50,50))\n",
    "        reward_state = frame.copy()\n",
    "        gray = self.cv2.cvtColor(frame, self.cv2.COLOR_BGR2GRAY)\n",
    "        gray = gray/255\n",
    "        return gray,reward_state\n",
    "        \n",
    "    def reset(self):\n",
    "        self.setup_1()\n",
    "        self.stop()\n",
    "        self.time.sleep(3)\n",
    "        self.counter = 0\n",
    "        self.state,self.reward_state = self.capture()\n",
    "        return self.state\n",
    "        \n",
    "    def setup_1(self):\n",
    "        self.GPIO.setmode(self.GPIO.BCM)         # GPIO Numbering\n",
    "        self.GPIO.setup(self.Motor1A,self.GPIO.OUT)  # All pins as Outputs\n",
    "        self.GPIO.setup(self.Motor1B,self.GPIO.OUT)\n",
    "        self.GPIO.setup(self.Motor1E,self.GPIO.OUT)\n",
    "\n",
    "    def forward(self):\n",
    "        self.GPIO.output(self.Motor1A,self.GPIO.HIGH)\n",
    "        self.GPIO.output(self.Motor1B,self.GPIO.LOW)\n",
    "        self.GPIO.output(self.Motor1E,self.GPIO.HIGH)\n",
    "        self.sleep(0.1)\n",
    "\n",
    "    def backward(self):\n",
    "        self.GPIO.output(self.Motor1A,self.GPIO.LOW)\n",
    "        self.GPIO.output(self.Motor1B,self.GPIO.HIGH)\n",
    "        self.GPIO.output(self.Motor1E,self.GPIO.HIGH)\n",
    "        self.sleep(0.1)\n",
    "        \n",
    "    def wait(self):\n",
    "        self.GPIO.output(self.Motor1E,self.GPIO.LOW)\n",
    "        self.sleep(0.2)\n",
    "        \n",
    "    def stop(self):\n",
    "        self.GPIO.output(self.Motor1E,self.GPIO.LOW)\n",
    "        \n",
    "    def destroy(self):\n",
    "        self.GPIO.cleanup()\n",
    "\n",
    "    def step(self,action):\n",
    "        self.setup_1()\n",
    "        if action == 0:\n",
    "            self.forward()\n",
    "            self.state,self.reward_state = self.capture()\n",
    "        if action == 1:\n",
    "            self.backward()\n",
    "            self.state,self.reward_state = self.capture()\n",
    "        if action == 2:\n",
    "            self.wait()\n",
    "            self.state,self.reward_state = self.capture()\n",
    "            \n",
    "        reward = self.reward_calc()\n",
    "        \n",
    "        \n",
    "        \n",
    "        if self.counter >= 100:\n",
    "            done = True\n",
    "        else:\n",
    "            done = False\n",
    "        self.counter += 1\n",
    "        \n",
    "        return self.state,reward,done\n",
    "    \n",
    "    def sample_action(self):\n",
    "        action = self.random.choice([0,1,2])\n",
    "        return action\n",
    "        "
   ]
  },
  {
   "cell_type": "code",
   "execution_count": 6,
   "metadata": {},
   "outputs": [
    {
     "name": "stderr",
     "output_type": "stream",
     "text": [
      "/usr/lib/python3/dist-packages/ipykernel_launcher.py:58: RuntimeWarning: This channel is already in use, continuing anyway.  Use GPIO.setwarnings(False) to disable warnings.\n",
      "/usr/lib/python3/dist-packages/ipykernel_launcher.py:59: RuntimeWarning: This channel is already in use, continuing anyway.  Use GPIO.setwarnings(False) to disable warnings.\n",
      "/usr/lib/python3/dist-packages/ipykernel_launcher.py:60: RuntimeWarning: This channel is already in use, continuing anyway.  Use GPIO.setwarnings(False) to disable warnings.\n"
     ]
    },
    {
     "name": "stdout",
     "output_type": "stream",
     "text": [
      "5 3\n"
     ]
    }
   ],
   "source": [
    "env = Env()\n",
    "\n",
    "state_reset = env.reset()\n",
    "\n",
    "in_dims = env.state_space\n",
    "n_actions = env.action_space\n",
    "print(in_dims,n_actions)"
   ]
  },
  {
   "cell_type": "code",
   "execution_count": 9,
   "metadata": {},
   "outputs": [],
   "source": [
    "# env.destroy()"
   ]
  },
  {
   "cell_type": "code",
   "execution_count": 10,
   "metadata": {},
   "outputs": [],
   "source": [
    "alpha = 0.001\n",
    "epsilon = 0.1\n",
    "gamma = 0.9\n",
    "batch_size = 16\n",
    "reply_mem_size = 10000\n",
    "driver = Agent(in_dims,n_actions,alpha,epsilon,gamma,batch_size,reply_mem_size)"
   ]
  },
  {
   "cell_type": "code",
   "execution_count": 11,
   "metadata": {},
   "outputs": [],
   "source": [
    "n_episodes = 1000"
   ]
  },
  {
   "cell_type": "code",
   "execution_count": null,
   "metadata": {},
   "outputs": [
    {
     "name": "stdout",
     "output_type": "stream",
     "text": [
      "q_eval\n",
      "q_target\n",
      "q_next\n",
      "episode : 0 \n",
      " avg_score : -937145.5 \n",
      " epsilon : 0.1\n",
      "q_eval\n",
      "q_target\n",
      "q_next\n",
      "q_eval\n",
      "q_target\n",
      "q_next\n",
      "q_eval\n",
      "q_target\n",
      "q_next\n",
      "q_eval\n",
      "q_target\n",
      "q_next\n",
      "q_eval\n",
      "q_target\n",
      "q_next\n",
      "q_eval\n",
      "q_target\n",
      "q_next\n",
      "q_eval\n",
      "q_target\n",
      "q_next\n",
      "q_eval\n",
      "q_target\n",
      "q_next\n",
      "q_eval\n",
      "q_target\n",
      "q_next\n",
      "q_eval\n",
      "q_target\n",
      "q_next\n",
      "episode : 10 \n",
      " avg_score : -1051730.2272727273 \n",
      " epsilon : 0.1\n",
      "q_eval\n",
      "q_target\n",
      "q_next\n",
      "q_eval\n",
      "q_target\n",
      "q_next\n",
      "q_eval\n",
      "q_target\n",
      "q_next\n",
      "q_eval\n",
      "q_target\n",
      "q_next\n",
      "q_eval\n",
      "q_target\n",
      "q_next\n",
      "q_eval\n",
      "q_target\n",
      "q_next\n",
      "q_eval\n",
      "q_target\n",
      "q_next\n",
      "q_eval\n",
      "q_target\n",
      "q_next\n",
      "q_eval\n",
      "q_target\n",
      "q_next\n",
      "q_eval\n",
      "q_target\n",
      "q_next\n",
      "episode : 20 \n",
      " avg_score : -1069928.0454545454 \n",
      " epsilon : 0.1\n",
      "q_eval\n",
      "q_target\n",
      "q_next\n",
      "q_eval\n",
      "q_target\n",
      "q_next\n"
     ]
    }
   ],
   "source": [
    "import copy\n",
    "scores = []\n",
    "eps_history = []\n",
    "moving_avgs = []\n",
    "for i in range(n_episodes):\n",
    "    done = False\n",
    "    observation = env.reset()\n",
    "    score = 0\n",
    "    episode_ln = 0\n",
    "    five_states = driver.zero_padding.copy()\n",
    "    while not done:\n",
    "        episode_ln += 1\n",
    "        five_states = np.concatenate((five_states[-1].reshape((1,50,50)), five_states[0:-1]))\n",
    "        five_states[0] = observation.copy()\n",
    "        action = driver.act(five_states)\n",
    "        observation_, reward, done = env.step(action)\n",
    "        score += reward\n",
    "        five_states_next = copy.copy(five_states)\n",
    "        five_states_next = np.concatenate((five_states_next[-1].reshape((1,50,50)), five_states_next[0:-1]))\n",
    "        five_states_next[0] = observation_\n",
    "        if not done:\n",
    "            driver.store_experiance(five_states, action, reward,five_states_next,done)\n",
    "        else:\n",
    "            driver.store_experiance(five_states, action, reward,five_states_next,done,episode_ln)\n",
    "        observation = observation_.copy()\n",
    "    env.destroy()\n",
    "    driver.learn()\n",
    "    scores.append(score)\n",
    "    eps_history.append(driver.epsilon)\n",
    "    if i % 10 == 0:\n",
    "        ma = np.mean(scores[max(0, i-10):(i+1)])\n",
    "        moving_avgs.append(ma)\n",
    "        print(\"episode :\",i,\"\\n\",\"avg_score :\",ma,\"\\n\",\"epsilon :\",driver.epsilon)\n",
    "#         print(\"episode :\",i,\"\\n\",\"avg_score :\",scores[i],\"\\n\",\"epsilon :\",driver.epsilon)"
   ]
  },
  {
   "cell_type": "code",
   "execution_count": null,
   "metadata": {},
   "outputs": [],
   "source": []
  },
  {
   "cell_type": "code",
   "execution_count": null,
   "metadata": {},
   "outputs": [],
   "source": []
  },
  {
   "cell_type": "code",
   "execution_count": 1,
   "metadata": {},
   "outputs": [
    {
     "ename": "NameError",
     "evalue": "name 'env' is not defined",
     "output_type": "error",
     "traceback": [
      "\u001b[0;31m---------------------------------------------------------------------------\u001b[0m",
      "\u001b[0;31mNameError\u001b[0m                                 Traceback (most recent call last)",
      "\u001b[0;32m<ipython-input-1-d20cf86688c9>\u001b[0m in \u001b[0;36m<module>\u001b[0;34m\u001b[0m\n\u001b[0;32m----> 1\u001b[0;31m \u001b[0menv\u001b[0m\u001b[0;34m.\u001b[0m\u001b[0mdestroy\u001b[0m\u001b[0;34m(\u001b[0m\u001b[0;34m)\u001b[0m\u001b[0;34m\u001b[0m\u001b[0;34m\u001b[0m\u001b[0m\n\u001b[0m",
      "\u001b[0;31mNameError\u001b[0m: name 'env' is not defined"
     ]
    }
   ],
   "source": [
    "env.destroy()"
   ]
  },
  {
   "cell_type": "code",
   "execution_count": 17,
   "metadata": {},
   "outputs": [
    {
     "name": "stdout",
     "output_type": "stream",
     "text": [
      "score -0.0758283529411765\n"
     ]
    }
   ],
   "source": [
    "for i in range(1):\n",
    "    done = False\n",
    "    observation = env.reset()\n",
    "    score = 0\n",
    "    episode_ln = 0\n",
    "    five_states = driver.zero_padding.copy()\n",
    "    while not done:\n",
    "        episode_ln += 1\n",
    "        five_states = np.concatenate((five_states[-1].reshape((1,50,50)), five_states[0:-1]))\n",
    "        five_states[0] = observation.copy()\n",
    "        action = driver.act(five_states)\n",
    "        observation_, reward, done = env.step(action)\n",
    "        score += reward\n",
    "        five_states_next = copy.copy(five_states)\n",
    "        five_states_next = np.concatenate((five_states_next[-1].reshape((1,50,50)), five_states_next[0:-1]))\n",
    "        five_states_next[0] = observation_\n",
    "        observation = observation_.copy()\n",
    "    env.destroy()\n",
    "    print(\"score\",score)"
   ]
  },
  {
   "cell_type": "code",
   "execution_count": null,
   "metadata": {},
   "outputs": [],
   "source": []
  },
  {
   "cell_type": "code",
   "execution_count": 13,
   "metadata": {},
   "outputs": [],
   "source": [
    "import matplotlib.pyplot as plt"
   ]
  },
  {
   "cell_type": "code",
   "execution_count": 14,
   "metadata": {},
   "outputs": [
    {
     "data": {
      "text/plain": [
       "[<matplotlib.lines.Line2D at 0x990159d0>]"
      ]
     },
     "execution_count": 14,
     "metadata": {},
     "output_type": "execute_result"
    },
    {
     "data": {
      "image/png": "[encoded data removed]",
      "text/plain": [
       "<Figure size 432x288 with 1 Axes>"
      ]
     },
     "metadata": {
      "needs_background": "light"
     },
     "output_type": "display_data"
    }
   ],
   "source": [
    "plt.plot(driver.reward_mem[:driver.mem_cntr])"
   ]
  },
  {
   "cell_type": "code",
   "execution_count": null,
   "metadata": {},
   "outputs": [],
   "source": []
  },
  {
   "cell_type": "code",
   "execution_count": null,
   "metadata": {},
   "outputs": [],
   "source": []
  },
  {
   "cell_type": "code",
   "execution_count": null,
   "metadata": {},
   "outputs": [],
   "source": []
  },
  {
   "cell_type": "code",
   "execution_count": null,
   "metadata": {},
   "outputs": [],
   "source": []
  },
  {
   "cell_type": "code",
   "execution_count": null,
   "metadata": {},
   "outputs": [],
   "source": []
  },
  {
   "cell_type": "code",
   "execution_count": 12,
   "metadata": {},
   "outputs": [
    {
     "data": {
      "text/plain": [
       "[<matplotlib.lines.Line2D at 0x991be170>]"
      ]
     },
     "execution_count": 12,
     "metadata": {},
     "output_type": "execute_result"
    },
    {
     "data": {
      "image/png": "[encoded data removed]",
      "text/plain": [
       "<Figure size 432x288 with 1 Axes>"
      ]
     },
     "metadata": {
      "needs_background": "light"
     },
     "output_type": "display_data"
    }
   ],
   "source": [
    "plt.plot(scores)"
   ]
  },
  {
   "cell_type": "code",
   "execution_count": 13,
   "metadata": {},
   "outputs": [
    {
     "data": {
      "text/plain": [
       "[<matplotlib.lines.Line2D at 0x98fdd590>]"
      ]
     },
     "execution_count": 13,
     "metadata": {},
     "output_type": "execute_result"
    },
    {
     "data": {
      "image/png": "[encoded data removed]",
      "text/plain": [
       "<Figure size 432x288 with 1 Axes>"
      ]
     },
     "metadata": {
      "needs_background": "light"
     },
     "output_type": "display_data"
    }
   ],
   "source": [
    "plt.plot(moving_avgs)"
   ]
  },
  {
   "cell_type": "code",
   "execution_count": 23,
   "metadata": {},
   "outputs": [],
   "source": [
    "mx = driver.state_mem_stacked[driver.reward_mem.index(max(driver.reward_mem))][0]\n",
    "mn = driver.state_mem_stacked[driver.reward_mem.index(min(driver.reward_mem))][0]"
   ]
  },
  {
   "cell_type": "code",
   "execution_count": 25,
   "metadata": {},
   "outputs": [],
   "source": [
    "import cv2\n",
    "cv2.imshow('image',mn)\n",
    "cv2.waitKey(0)\n",
    "cv2.destroyAllWindows()"
   ]
  },
  {
   "cell_type": "code",
   "execution_count": null,
   "metadata": {},
   "outputs": [],
   "source": []
  },
  {
   "cell_type": "code",
   "execution_count": 11,
   "metadata": {},
   "outputs": [
    {
     "name": "stderr",
     "output_type": "stream",
     "text": [
      "/usr/lib/python3/dist-packages/ipykernel_launcher.py:67: RuntimeWarning: No channels have been set up yet - nothing to clean up!  Try cleaning up at the end of your program instead!\n"
     ]
    }
   ],
   "source": [
    "env.destroy()"
   ]
  },
  {
   "cell_type": "code",
   "execution_count": 15,
   "metadata": {},
   "outputs": [],
   "source": [
    "# import time\n",
    "\n",
    "# time.sleep(5)\n",
    "# state = env.reset()\n",
    "# done = False\n",
    "# data = []\n",
    "# i = 0\n",
    "# while not done:\n",
    "#     i += 1\n",
    "#     print(i)\n",
    "#     action = env.sample_action()\n",
    "#     state_,reward,done = env.step(action)\n",
    "#     data.append((state,action,state_,reward,done))\n",
    "#     state = state_"
   ]
  },
  {
   "cell_type": "code",
   "execution_count": null,
   "metadata": {},
   "outputs": [],
   "source": []
  },
  {
   "cell_type": "code",
   "execution_count": null,
   "metadata": {},
   "outputs": [],
   "source": []
  },
  {
   "cell_type": "code",
   "execution_count": null,
   "metadata": {},
   "outputs": [],
   "source": [
    "# import numpy as np\n",
    "# import cv2\n",
    "# import os \n",
    "# os.system('sudo modprobe bcm2835-v4l2') \n",
    "# cap = cv2.VideoCapture(0)\n",
    "# import time\n",
    "# t1 = time.time()\n",
    "# # frames = np.zeros((500,480, 640))\n",
    "# frames = []\n",
    "# while True:\n",
    "#     # Capture frame-by-frame\n",
    "#     ret, frame = cap.read()\n",
    "#     gray = cv2.cvtColor(frame, cv2.COLOR_BGR2GRAY)\n",
    "#     gray = gray[30:400,100:485]\n",
    "#     gray = cv2.resize(gray,(100,100))\n",
    "# #     frames.append(gray.copy())\n",
    "\n",
    "#     # Display the resulting frame\n",
    "#     cv2.imshow('frame',gray)\n",
    "#     if cv2.waitKey(1) & 0xFF == ord('q'):\n",
    "#         break\n",
    "\n",
    "# # When everything done, release the capture\n",
    "# # cap.release()\n",
    "# # cv2.destroyAllWindows()\n",
    "# t2 = time.time()\n",
    "# print(t2-t1)"
   ]
  },
  {
   "cell_type": "code",
   "execution_count": null,
   "metadata": {},
   "outputs": [],
   "source": []
  },
  {
   "cell_type": "code",
   "execution_count": 2,
   "metadata": {},
   "outputs": [],
   "source": [
    "# env = Env()\n",
    "# import time\n",
    "\n",
    "# time.sleep(5)\n",
    "# state = env.reset()\n",
    "# done = False\n",
    "# data = []\n",
    "# i = 0\n",
    "# while not done:\n",
    "#     i += 1\n",
    "#     print(i)\n",
    "#     action = env.sample_action()\n",
    "#     state_,reward,done = env.step(action)\n",
    "#     data.append((state,action,state_,reward,done))\n",
    "#     state = state_\n",
    "    \n",
    "# env.destroy()\n",
    "\n",
    "# env.destroy()\n",
    "\n",
    "# import cv2\n",
    "\n",
    "# # dummy = data[20][0]\n",
    "# dummy = data[17][0]\n",
    "# dummy = dummy[:50]\n",
    "# # upper = dummy[:50]\n",
    "# # lower = dummy[50:]\n",
    "# # np.sum(upper - lower)\n",
    "# cv2.imshow('image',dummy)\n",
    "# cv2.waitKey(0)\n",
    "# cv2.destroyAllWindows()\n",
    "\n",
    "# np.sum(upper - lower)\n",
    "\n",
    "# # dummy_base = dummy.copy()\n",
    "\n",
    "# import numpy as np\n",
    "\n",
    "# np.max(dummy_base)\n",
    "\n",
    "\n",
    "\n",
    "# ds = []\n",
    "# for i in range(50):\n",
    "#     dummy = data[i][0]\n",
    "# #     dummy = dummy[:10]\n",
    "#     upper = dummy[:50]\n",
    "#     lower = dummy[50:]\n",
    "#     ds.append((np.sum(abs(upper - lower))/100000) - 3)\n",
    "# #     ds.append((sum(sum(dummy_base - dummy)))/1000)\n",
    "\n",
    "# import matplotlib.pyplot as plt\n",
    "\n",
    "# plt.plot([l for i,j,k,l,m in data])\n",
    "\n",
    "\n",
    "\n",
    "# plt.plot()\n",
    "\n",
    "\n",
    "\n",
    "# # dummy = data[17][0]\n",
    "# dummy = data[10][0]\n",
    "# # dummy = dummy[60:70,30:50]\n",
    "# cv2.imshow('image',dummy)\n",
    "# cv2.waitKey(0)\n",
    "# cv2.destroyAllWindows()\n",
    "\n",
    "# dummy = data[23][0]\n",
    "# dummy = dummy[:10]\n",
    "# (sum(sum(dummy_base - dummy)))/1000\n",
    "\n"
   ]
  },
  {
   "cell_type": "code",
   "execution_count": null,
   "metadata": {},
   "outputs": [],
   "source": []
  }
 ],
 "metadata": {
  "kernelspec": {
   "display_name": "Python 3",
   "language": "python",
   "name": "python3"
  },
  "language_info": {
   "codemirror_mode": {
    "name": "ipython",
    "version": 3
   },
   "file_extension": ".py",
   "mimetype": "text/x-python",
   "name": "python",
   "nbconvert_exporter": "python",
   "pygments_lexer": "ipython3",
   "version": "3.7.3"
  }
 },
 "nbformat": 4,
 "nbformat_minor": 4
}
